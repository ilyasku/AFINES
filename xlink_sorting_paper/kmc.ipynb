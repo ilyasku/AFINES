{
 "cells": [
  {
   "cell_type": "code",
   "execution_count": 26,
   "metadata": {
    "collapsed": false
   },
   "outputs": [
    {
     "name": "stdout",
     "output_type": "stream",
     "text": [
      "Populating the interactive namespace from numpy and matplotlib\n"
     ]
    }
   ],
   "source": [
    "%pylab inline\n",
    "import sys\n",
    "import os\n",
    "import matplotlib as mpl\n",
    "import matplotlib.pyplot as plt\n",
    "font = {'family' : 'sans-serif',\n",
    "        'sans-serif': 'arial',\n",
    "        'weight' : 'normal',\n",
    "        'size'   : 9}\n",
    "\n",
    "mpl.rc('font', **font)\n",
    "mpl.rc('text', usetex=False)\n",
    "\n",
    "mpl.rcParams['pdf.fonttype'] = 42\n",
    "mpl.rcParams['ps.fonttype'] = 42"
   ]
  },
  {
   "cell_type": "code",
   "execution_count": 27,
   "metadata": {
    "collapsed": true
   },
   "outputs": [],
   "source": [
    "def jackknife( data_array ):\n",
    "    from math import sqrt\n",
    "    \"\"\" Return the jackknife standard deviation given a numpy array of samples. The formula is given by\n",
    "        sig^2 = (N-1) sum_i ( ( mu_i - mu )^2 / N )\n",
    "        where mu = 1/N sum data(i)\n",
    "        and mu_i = 1/(N-1) ( ( sum_j data(j) ) - data(i) )\n",
    "        see e.g.: http://www.physics.utah.edu/~detar/phycs6730/handouts/jackknife/jackknife/\n",
    "    \"\"\"\n",
    "    N = len(data_array)\n",
    "    m = data_array.mean()\n",
    "    s = data_array.sum()\n",
    "    sum = 0\n",
    "    for i in range(N):\n",
    "        mi = ( s - data_array[i] ) / (N - 1.)\n",
    "        sum = sum + ( mi - m )**2 /float(N)\n",
    "\n",
    "    sig2 = (N-1.) * sum\n",
    "\n",
    "    return sqrt(sig2)\n",
    "\n",
    "def bootstrap_ratio(data_list,nrepeats=300,nbins=2,bins_in=None,density=True):\n",
    "    import numpy as np\n",
    "    data_list = np.array(data_list)\n",
    "    if bins_in is None:\n",
    "        bins = nbins\n",
    "    else:\n",
    "        bins = bins_in\n",
    "    hist,bins_total = np.histogram(data_list,bins=bins,density=density)\n",
    "    nsamples = len(data_list)\n",
    "    hist_list = []\n",
    "    ratio_list = []\n",
    "    for i in range(nrepeats):\n",
    "        randidx = np.random.randint(0,nsamples,size=nsamples)\n",
    "        new_data = data_list[randidx]\n",
    "        hist,bins = np.histogram(new_data,density=density,bins=bins_total)\n",
    "        hist_list.append(hist)\n",
    "        ratio_list.append(hist[1]/hist[0])\n",
    "    hist_array = np.array(ratio_list)\n",
    "    hist_mean = np.mean(hist_array,axis=0)\n",
    "    hist_std = np.std(hist_array,axis=0)\n",
    "    return ba(bins_total), hist_mean, hist_std, bins_total"
   ]
  },
  {
   "cell_type": "code",
   "execution_count": 28,
   "metadata": {
    "collapsed": true
   },
   "outputs": [],
   "source": [
    "#define variables \n",
    "outdir = \"figures/kinetic_competition_paper_pnas_draft\"\n",
    "!mkdir -p {outdir}\n",
    "\n",
    "#nm\n",
    "site_width = 37.\n",
    "#actinin -fascin\n",
    "dxl = 35.-8."
   ]
  },
  {
   "cell_type": "code",
   "execution_count": 29,
   "metadata": {
    "collapsed": true
   },
   "outputs": [],
   "source": [
    "def f(x,Lp):\n",
    "    Lp_sites = Lp*1e3/site_width\n",
    "    return Lp_sites/x*(np.arcsin((dxl/site_width)/x)**2)\n",
    "\n",
    "#A is the equilibrium ratio, kother/ksame\n",
    "def ratio_at_dist(x,onleft,kon1,kon2,Lp):\n",
    "    #0 on left\n",
    "    #1 on left\n",
    "    prefactor = (onleft==1)*kon2/kon1 + (onleft==2)*kon1/kon2\n",
    "    return prefactor*exp(-f(x,Lp))"
   ]
  },
  {
   "cell_type": "code",
   "execution_count": 30,
   "metadata": {
    "collapsed": false
   },
   "outputs": [
    {
     "data": {
      "image/png": "[encoded data removed]",
      "text/plain": [
       "<matplotlib.figure.Figure at 0x7f60de080810>"
      ]
     },
     "metadata": {},
     "output_type": "display_data"
    }
   ],
   "source": [
    "n_binding_sites = 20\n",
    "binding_sites = np.arange(1,n_binding_sites+1,1.)\n",
    "dist_ratio = ratio_at_dist(binding_sites,onleft=1,kon1=1,kon2=1,Lp=17)\n",
    "p_switch = dist_ratio/(1+dist_ratio)\n",
    "\n",
    "myfig = figure(figsize=(1.6,1.5))\n",
    "plot(binding_sites,p_switch,marker='o')\n",
    "ylabel(\"$k_{on}^{diff}/(k_{on}^{same}+k_{on}^{diff})$\",labelpad=1)\n",
    "xlabel('$l_g$ (sites)',labelpad=1)\n",
    "xlim(0,20)\n",
    "tight_layout()\n",
    "savefig(os.path.join(outdir,'on_rate_ratio.pdf'), transparent='true')"
   ]
  },
  {
   "cell_type": "code",
   "execution_count": 31,
   "metadata": {
    "collapsed": false
   },
   "outputs": [
    {
     "name": "stdout",
     "output_type": "stream",
     "text": [
      "Running until length reaches 15.000000 microns / 405 sites\n",
      "('starting with type', 2)\n"
     ]
    },
    {
     "data": {
      "text/plain": [
       "(0.008130081300813009,\n",
       " 0.0,\n",
       " array([ 6179.,  8880.]),\n",
       " array([2, 1]),\n",
       " array([  8.7041122 ,  12.98162582,   9.64871393,   5.99681001,\n",
       "          1.74740293,   3.10159408,   5.40716681,  11.25645998,\n",
       "         11.13752127,   3.28011242,  16.40760249,   1.0851075 ,\n",
       "         14.86141855,  15.35980689,  10.18732165,   1.29702311,\n",
       "          5.14674131,   5.34599681,  12.69180214,   2.29480556,\n",
       "          9.2089738 ,   3.3454063 ,   7.88505095,  11.71798567,\n",
       "          9.66245476,   6.52458262,   8.15742044,   0.6345075 ,\n",
       "          4.65394327,   7.42024606,  12.08944834,   8.01664767,\n",
       "          3.98344364,   3.63763031,   7.66217278,   6.55857467,\n",
       "          9.84598112,   6.0377431 ,  13.24085322,   6.41227754,\n",
       "          3.59418706,   8.04071919,  16.57791184,   2.26099155,\n",
       "         13.79510542,  12.60108472,   9.78514095,  12.59857002,\n",
       "          8.96168015,   3.98055486,  23.13539764,  10.59504165,\n",
       "          9.71915839,  12.13814952,   6.01900699,  10.20175845,\n",
       "          4.77099645,  12.13456894,   3.77836202,   6.09054498,\n",
       "         10.15248127,  10.76861857,   3.24183623,  17.32043822,\n",
       "          5.84866573,  16.6629076 ,   2.46925763,  11.01219826,\n",
       "         18.23158119,   8.18177899,   7.42468825,   6.76593524,\n",
       "          2.28521063,   3.75443026,  14.32587979,  18.66785295,\n",
       "          8.56477099,   2.56110588,   3.33244648,   8.07987751,\n",
       "          0.34703927,   9.35892735,  11.06694443,   5.84725885,\n",
       "          6.45137253,   8.68789383,  13.05367321,   1.67725872,\n",
       "          6.91986975,  12.70238783,   8.72200882,   0.42092659,\n",
       "          3.56551418,   7.89489418,   2.69994692,  17.96462801,\n",
       "          4.50150925,  17.47360536,   4.71091205,  11.90277135,\n",
       "          3.72732624,   6.90607101,   5.79690227,   3.47592013,\n",
       "          4.76785228,   5.29852975,   4.17458702,   6.0210475 ,\n",
       "          4.34675248,   3.96994383,   5.95831952,   9.47895349,\n",
       "          7.56804338,   3.48723639,  19.39257185,  11.83509793,\n",
       "          6.11500297,  10.43310656,   3.01548377,   7.09425991,\n",
       "         12.57967657,   3.35696774,  14.53495966,  13.05732612]),\n",
       " array([0, 0, 0, 0, 0, 0, 0, 0, 0, 0, 0, 0, 0, 0, 0, 0, 0, 0, 0, 0, 0, 0, 0,\n",
       "        0, 0, 0, 0, 0, 0, 0, 0, 0, 0, 0, 0, 0, 0, 0, 0, 0, 0, 0, 0, 0, 0, 0,\n",
       "        0, 0, 1, 0, 0, 0, 0, 0, 0, 0, 0, 0, 0, 0, 0, 0, 0, 0, 0, 0, 0, 0, 0,\n",
       "        0, 0, 0, 0, 0, 0, 0, 0, 0, 0, 0, 0, 0, 0, 0, 0, 0, 0, 0, 0, 0, 0, 0,\n",
       "        0, 0, 0, 0, 0, 0, 0, 0, 0, 0, 0, 0, 0, 0, 0, 0, 0, 0, 0, 0, 0, 0, 0,\n",
       "        0, 0, 0, 0, 0, 0, 0, 0, 0]),\n",
       " array([1, 2, 3, 1, 1, 3, 1, 1, 2, 1, 5, 1, 1, 4, 1, 2, 3, 2, 2, 2, 3, 2, 1,\n",
       "        4, 1, 1, 2, 1, 1, 3, 2, 4, 1, 1, 1, 1, 2, 1, 5, 2, 3, 3, 5, 1, 3, 1,\n",
       "        6, 4, 7, 1, 5, 3, 2, 2, 3, 1, 3, 5, 1, 1, 3, 1, 1, 5, 2, 1, 1, 2, 4,\n",
       "        3, 2, 1, 2, 1, 1, 3, 1, 1, 1, 5, 1, 5, 3, 1, 1, 1, 2, 3, 2, 7, 2, 1,\n",
       "        1, 2, 2, 6, 1, 1, 2, 5, 1, 3, 2, 1, 1, 1, 1, 1, 1, 3, 3, 4, 2, 2, 6,\n",
       "        3, 2, 2, 1, 1, 1, 1, 4, 3]))"
      ]
     },
     "execution_count": 31,
     "metadata": {},
     "output_type": "execute_result"
    },
    {
     "data": {
      "image/png": "[encoded data removed]",
      "text/plain": [
       "<matplotlib.figure.Figure at 0x7f60de6d2e10>"
      ]
     },
     "metadata": {},
     "output_type": "display_data"
    }
   ],
   "source": [
    "def rates(n_rate_sites,onleft,kon1,kon2,Lp):\n",
    "    rate_list = []\n",
    "    for i in range(1,n_rate_sites+1):\n",
    "        p_diff = ratio_at_dist(i,onleft,kon1,kon2,Lp)\n",
    "        if onleft==1:\n",
    "            rate_list.append(kon1)\n",
    "            rate_list.append(p_diff*kon1)\n",
    "        elif onleft==2:\n",
    "            rate_list.append(p_diff*kon2)\n",
    "            rate_list.append(kon2)\n",
    "        else:\n",
    "            assert onleft in (1,2),\"on_left is not either 1 or 2\"\n",
    "    return np.array(rate_list)\n",
    "\n",
    "#extension rate is in nm/second\n",
    "#max length in nm\n",
    "def extension_population_ratio(num_trials=1,max_filament_length=15000,extension_rate=10, kon1=0.1,kon2=0.1, \n",
    "                               showplot=False,Lp=17,n_sites_init=1,max_extensions=50):\n",
    "    \n",
    "    site_extension_rate = float(extension_rate)/site_width\n",
    "    assert extension_rate>0,\"bundle has to be growing\"\n",
    "    max_n_sites = int(max_filament_length/site_width)\n",
    "    print(\"Running until length reaches %f microns / %i sites\"%(max_filament_length/1000,max_n_sites))\n",
    "\n",
    "    # n_rate_sites is the distance out to which to compute a rate\n",
    "    n_rate_sites = max_extensions+1\n",
    "    \n",
    "    #1 list for 1 on right, another for 2 on right\n",
    "    rate_list = [rates(n_rate_sites,onleft=1,kon1=kon1,kon2=kon2,Lp=Lp), \n",
    "                rates(n_rate_sites,onleft=2,kon1=kon1,kon2=kon2,Lp=Lp)]\n",
    "    \n",
    "    prob_type_1 = kon1/(kon1+kon2)\n",
    "    n_keep_list = np.zeros(num_trials)\n",
    "    n_swap_list = np.zeros(num_trials)\n",
    "    domain_length_list = []\n",
    "    domain_type_list = []\n",
    "    all_swap_list = []\n",
    "    all_types_chosen = []\n",
    "\n",
    "    \n",
    "    nsites_needed = []\n",
    "    times_chosen = []\n",
    "    sites_chosen = []\n",
    "    events_chosen = []\n",
    "        \n",
    "    for i in range(num_trials):\n",
    "        current_site = 0\n",
    "        filament_length = 0\n",
    "\n",
    "        occupation_lattice = np.zeros(max_n_sites,dtype=int)\n",
    "        current_type = 1+(np.random.random()>prob_type_1)\n",
    "        occupation_lattice[current_site] = current_type\n",
    "        \n",
    "        if showplot: print(\"starting with type\",current_type)\n",
    "        t = 0\n",
    "        \n",
    "        \n",
    "        filament_lengths = []\n",
    "        swap_list = []\n",
    "        types_chosen = []\n",
    "\n",
    "        \n",
    "        while(filament_length<max_filament_length):\n",
    "            n_sites_away = n_sites_init\n",
    "            filament_length += n_sites_away*site_width\n",
    "            unbound = True\n",
    "            prev_t = t\n",
    "            \n",
    "            while unbound and n_sites_away < max_extensions:\n",
    "                tmp_rate_list = np.append(rate_list[current_type-1][:2*n_sites_away],site_extension_rate)\n",
    "                #if t<100: print(tmp_rate_list)\n",
    "                tmp_cum_rate = tmp_rate_list.cumsum()\n",
    "                r1,r2 = np.random.random(size=2)\n",
    "                event_chosen = np.searchsorted(tmp_cum_rate, r1*tmp_cum_rate[-1])\n",
    "                t = t - np.log(r2)/tmp_cum_rate[-1]\n",
    "                if event_chosen == len(tmp_rate_list)-1:  \n",
    "                    n_sites_away += 1\n",
    "                    filament_length += site_width\n",
    "                else:\n",
    "                    unbound = False\n",
    "                assert n_sites_away < max_extensions, \"error, max extensions reached\"\n",
    "\n",
    "            events_chosen.append(event_chosen)\n",
    "            times_chosen.append(t-prev_t)\n",
    "            nsites_needed.append(n_sites_away)\n",
    "               \n",
    "            sites_chosen.append((event_chosen//2)+1)\n",
    "            types_chosen.append((event_chosen%2)+1)\n",
    "            current_site += sites_chosen[-1]\n",
    "            if current_site < len(occupation_lattice):\n",
    "                occupation_lattice[current_site] = types_chosen[-1]\n",
    "            swap_list.append(int(current_type!=types_chosen[-1]))\n",
    "            current_type = types_chosen[-1]\n",
    "            filament_lengths.append(filament_length)\n",
    "        \n",
    "        swap_array = np.array(swap_list)\n",
    "        if np.sum(swap_array)>0:\n",
    "            filament_length_at_swap_array = np.array(filament_lengths)[swap_array==1]\n",
    "            #have to add in edge domains\n",
    "            domain_lengths = np.insert( filament_length_at_swap_array[1:]-filament_length_at_swap_array[:-1],0,filament_length_at_swap_array[0])\n",
    "            domain_lengths = np.insert( domain_lengths,len(domain_lengths),filament_lengths[-1]-filament_length_at_swap_array[-1])\n",
    "            domain_types = np.insert( np.array(types_chosen)[swap_array==1], 0, occupation_lattice[0] )\n",
    "        else:\n",
    "            domain_lengths = [filament_length]\n",
    "            domain_types = [occupation_lattice[0]]\n",
    "        domain_length_list.extend(domain_lengths)\n",
    "        domain_type_list.extend(domain_types)            \n",
    "        \n",
    "        if showplot is True:\n",
    "            figure()\n",
    "            plot(types_chosen,marker='o',linestyle='')\n",
    "            ylim(0,2.1)\n",
    "        n_keep_list[i]=(swap_array==0).sum()\n",
    "        n_swap_list[i]=(swap_array==1).sum()\n",
    "        all_swap_list.extend(swap_list)\n",
    "        all_types_chosen.extend(types_chosen)\n",
    "\n",
    "\n",
    "    swap_ratio = np.mean(n_swap_list/n_keep_list)\n",
    "    swap_ratio_std = np.std(n_swap_list/n_keep_list)\n",
    "    return swap_ratio,swap_ratio_std,np.array(domain_length_list),np.array(domain_type_list), \\\n",
    "               np.array(times_chosen),np.array(all_swap_list),np.array(sites_chosen)\n",
    "\n",
    "extension_population_ratio(num_trials=1,kon1=0.05,kon2=0.05,extension_rate=10,showplot=True)\n",
    "\n",
    "    "
   ]
  },
  {
   "cell_type": "code",
   "execution_count": 32,
   "metadata": {
    "collapsed": false
   },
   "outputs": [
    {
     "name": "stdout",
     "output_type": "stream",
     "text": [
      "Running until length reaches 15.000000 microns / 405 sites\n"
     ]
    },
    {
     "data": {
      "image/png": "[encoded data removed]",
      "text/plain": [
       "<matplotlib.figure.Figure at 0x7f60de6e7610>"
      ]
     },
     "metadata": {},
     "output_type": "display_data"
    }
   ],
   "source": [
    "#bin average\n",
    "def ba(bins):\n",
    "    return (bins[1:]+bins[:-1])/2.0\n",
    "\n",
    "#fig, ax = subplots(1,2,figsize=(3.5,1.2),sharey=True)\n",
    "\n",
    "fig, ax = subplots(1,2,figsize=(3.5,1.2),sharey=False)\n",
    "\n",
    "ratio, ratio_std, _,_, times_chosen, event_type_chosen, sites_chosen  = extension_population_ratio(num_trials=500,kon1=0.1,kon2=0.1,\n",
    "                                                                            extension_rate=100,showplot=False)\n",
    "num_trials = len(sites_chosen)\n",
    "\n",
    "time_hist_same, time_bins_same = np.histogram(times_chosen[event_type_chosen==0],density=True,bins=30)\n",
    "time_hist_diff, time_bins_diff = np.histogram(times_chosen[event_type_chosen==1],density=True,bins=30)\n",
    "\n",
    "\n",
    "#plot(ba(time_bins),time_hist,c='k',label='times')\n",
    "ax[0].plot(ba(time_bins_same),time_hist_same,label='same',lw=2)\n",
    "ax[0].plot(ba(time_bins_diff),time_hist_diff,label='diff',lw=2)\n",
    "ax[0].set_ylim(0,0.4)\n",
    "\n",
    "ax[0].set_ylabel('P($t$)',labelpad=0)\n",
    "ax[0].set_xlabel('$t$ (sec)',labelpad=0)\n",
    "ax[0].set_xlim(0,17)\n",
    "ax[0].set_xticks(np.arange(0,19,5))\n",
    "ax[0].set_yticks(np.arange(0,0.45,.1))\n",
    "\n",
    "\n",
    "ax[0].legend(loc=0,fontsize=8,handletextpad=0.1)\n",
    "\n",
    "   \n",
    "same_hist, same_bins = np.histogram( sites_chosen[event_type_chosen==0], density=False, bins=binding_sites )\n",
    "diff_hist, diff_bins = np.histogram( sites_chosen[event_type_chosen==1], density=False, bins=binding_sites )\n",
    "\n",
    "ax[1].plot(ba(same_bins), same_hist/float(num_trials), label='same',lw=2)\n",
    "ax[1].plot(ba(diff_bins), diff_hist/float(num_trials), label='diff',lw=2)\n",
    "\n",
    "\n",
    "ax[1].set_xlabel('site',labelpad=0)\n",
    "ax[1].set_ylabel('P(site)',labelpad=2)\n",
    "\n",
    "ax[1].yaxis.set_label_position(\"right\")\n",
    "ax[1].yaxis.tick_right()\n",
    "ax[1].set_ylim(0,0.2)\n",
    "\n",
    "ax[1].set_yticks(np.arange(0,0.25,0.1))\n",
    "ax[1].set_xticks(np.arange(0,25,5))\n",
    "\n",
    "ax[1].annotate('$\\\\frac{N_{diff}}{N_{same}}$=%.3f'%ratio,xy=(5,0.12),fontsize=8)\n",
    "ax[1].annotate('$\\epsilon$=%.1f'%-log(ratio),xy=(7.5,0.07),fontsize=8)\n",
    "tight_layout()\n",
    "fig.subplots_adjust(hspace=0,wspace=0)\n",
    "\n",
    "savefig(os.path.join(outdir,'example_pbind_mugrow100_kon0.1.pdf'),transparent='true')"
   ]
  },
  {
   "cell_type": "code",
   "execution_count": 33,
   "metadata": {
    "collapsed": false
   },
   "outputs": [
    {
     "name": "stdout",
     "output_type": "stream",
     "text": [
      "Running until length reaches 15.000000 microns / 405 sites\n",
      "Running until length reaches 15.000000 microns / 405 sites\n",
      "Running until length reaches 15.000000 microns / 405 sites\n",
      "Running until length reaches 15.000000 microns / 405 sites\n",
      "Running until length reaches 15.000000 microns / 405 sites\n",
      "Running until length reaches 15.000000 microns / 405 sites\n"
     ]
    },
    {
     "name": "stderr",
     "output_type": "stream",
     "text": [
      "/project/gavoth/glen842/software/anaconda2/lib/python2.7/site-packages/ipykernel/__main__.py:17: RuntimeWarning: divide by zero encountered in log\n"
     ]
    },
    {
     "name": "stdout",
     "output_type": "stream",
     "text": [
      "Running until length reaches 15.000000 microns / 405 sites\n",
      "Running until length reaches 15.000000 microns / 405 sites\n",
      "Running until length reaches 15.000000 microns / 405 sites\n",
      "Running until length reaches 15.000000 microns / 405 sites\n",
      "Running until length reaches 15.000000 microns / 405 sites\n",
      "Running until length reaches 15.000000 microns / 405 sites\n",
      "Running until length reaches 15.000000 microns / 405 sites\n",
      "Running until length reaches 15.000000 microns / 405 sites\n",
      "Running until length reaches 15.000000 microns / 405 sites\n",
      "Running until length reaches 15.000000 microns / 405 sites\n",
      "Running until length reaches 15.000000 microns / 405 sites\n",
      "Running until length reaches 15.000000 microns / 405 sites\n",
      "Running until length reaches 15.000000 microns / 405 sites\n",
      "Running until length reaches 15.000000 microns / 405 sites\n",
      "Running until length reaches 15.000000 microns / 405 sites\n",
      "Running until length reaches 15.000000 microns / 405 sites\n",
      "Running until length reaches 15.000000 microns / 405 sites\n",
      "Running until length reaches 15.000000 microns / 405 sites\n",
      "Running until length reaches 15.000000 microns / 405 sites\n",
      "Running until length reaches 15.000000 microns / 405 sites\n",
      "Running until length reaches 15.000000 microns / 405 sites\n",
      "Running until length reaches 15.000000 microns / 405 sites\n",
      "Running until length reaches 15.000000 microns / 405 sites\n",
      "Running until length reaches 15.000000 microns / 405 sites\n",
      "Running until length reaches 15.000000 microns / 405 sites\n",
      "Running until length reaches 15.000000 microns / 405 sites\n",
      "Running until length reaches 15.000000 microns / 405 sites\n",
      "Running until length reaches 15.000000 microns / 405 sites\n",
      "Running until length reaches 15.000000 microns / 405 sites\n",
      "Running until length reaches 15.000000 microns / 405 sites\n"
     ]
    },
    {
     "data": {
      "text/plain": [
       "(0, 0.1)"
      ]
     },
     "execution_count": 33,
     "metadata": {},
     "output_type": "execute_result"
    },
    {
     "data": {
      "image/png": "[encoded data removed]",
      "text/plain": [
       "<matplotlib.figure.Figure at 0x7f60de65ba90>"
      ]
     },
     "metadata": {},
     "output_type": "display_data"
    }
   ],
   "source": [
    "extension_rates = (5.0,10.,20.,30.,50.,100.)\n",
    "kons = (0.02,0.05,0.1,0.2,0.5,1.0)\n",
    "my_num_trials=10\n",
    "all_energies = []\n",
    "#all_times = []\n",
    "figure(figsize=(4,3))\n",
    "for extension_rate in extension_rates:\n",
    "    ratios = []\n",
    "    ratio_stds =[]\n",
    "    energies = []\n",
    "    #times = []\n",
    "    for kon in kons:\n",
    "        ratio, ratio_std,_,_,_,_,_ = extension_population_ratio(num_trials=my_num_trials,extension_rate=extension_rate,\n",
    "                                                                   kon1=kon,kon2=kon)\n",
    "        ratios.append(ratio)\n",
    "        ratio_stds.append(ratio_std)\n",
    "        energies.append(-np.log(ratio))\n",
    "    myplt = plot(kons,ratios,lw=2,label=\"$v_{pol}$=%.f\"%extension_rate)\n",
    "    errorbar(kons,ratios,ratio_std,lw=2,c=myplt[0].get_c())\n",
    "\n",
    "    all_energies.append(energies)\n",
    "\n",
    "ylabel(\"$N_{diff}/N_{same}$\")\n",
    "xlabel('$k_{on}$')\n",
    "legend(loc=0,fontsize=12)\n",
    "ylim(0,0.1)"
   ]
  },
  {
   "cell_type": "code",
   "execution_count": 34,
   "metadata": {
    "collapsed": false
   },
   "outputs": [
    {
     "data": {
      "image/png": "[encoded data removed]",
      "text/plain": [
       "<matplotlib.figure.Figure at 0x7f60de65b810>"
      ]
     },
     "metadata": {},
     "output_type": "display_data"
    }
   ],
   "source": [
    "#also, think about what times mean here more\n",
    "figure(figsize=(3.6,2))\n",
    "#remember, v_pol in nm per second\n",
    "for idx, extension_rate in enumerate(extension_rates):\n",
    "    if idx == 0: \n",
    "        labelstring=\" nm/s\"\n",
    "    else:\n",
    "        labelstring=\"\"\n",
    "    plot(extension_rate/np.array(kons)/site_width, all_energies[idx],\n",
    "         label=\"$\\\\mu$=%.f%s\"%(extension_rate,labelstring),marker='o')\n",
    "\n",
    "\n",
    "xlabel('$\\\\mu_\\mathrm{grow} (\\\\mathrm{sites}/\\\\mathrm{sec}) /k_\\\\mathrm{on} {\\\\rm (1/sec)}$',labelpad=1)\n",
    "\n",
    "\n",
    "legend(loc=0,fontsize=8,handletextpad=0.1,numpoints=1)\n",
    "xscale('log')\n",
    "xlim(0.5,3000)\n",
    "yticks(np.arange(0,9,2))\n",
    "ylabel('$\\epsilon_{\\\\mathrm{predicted}}=-\\mathrm{ln}(N_{\\\\rm diff}/N_{\\\\rm same})$',labelpad=1)\n",
    "axhline(4.8,linestyle='--',color='k')\n",
    "tight_layout()\n",
    "savefig(os.path.join(outdir,'epsilon_collapse_voverk.pdf'), transparent='true')"
   ]
  },
  {
   "cell_type": "code",
   "execution_count": null,
   "metadata": {
    "collapsed": false
   },
   "outputs": [
    {
     "name": "stdout",
     "output_type": "stream",
     "text": [
      "Running until length reaches 15.000000 microns / 405 sites\n",
      "Running until length reaches 15.000000 microns / 405 sites\n",
      "Running until length reaches 15.000000 microns / 405 sites\n"
     ]
    }
   ],
   "source": [
    "mymu = 40.\n",
    "mykon2 = 0.26\n",
    "my_num_trials=100\n",
    "\n",
    "energies = []\n",
    "avg_domain_lengths = [[],[]]\n",
    "std_domain_lengths = [[],[]]\n",
    "\n",
    "kratio_list = (0.3,0.5,1.0,1.5,2.0,2.5)\n",
    "\n",
    "for kratio in kratio_list:\n",
    "    ratio, ratio_std,domain_lengths,domain_types,_,_,_ = extension_population_ratio(num_trials=my_num_trials,\n",
    "                                                                extension_rate=extension_rate,\n",
    "                                                                kon1=mykon2*kratio,kon2=mykon2,max_filament_length=15000)\n",
    "    avg_domain_lengths[0].append(domain_lengths[domain_types==1].mean())\n",
    "    avg_domain_lengths[1].append(domain_lengths[domain_types==2].mean())\n",
    "    std_domain_lengths[0].append(jackknife(domain_lengths[domain_types==1]))\n",
    "    std_domain_lengths[1].append(jackknife(domain_lengths[domain_types==2]))\n",
    "    energies.append(-np.log(ratio))\n",
    "\n",
    "plt.figure()\n",
    "plt.errorbar(kratio_list,np.array(avg_domain_lengths[0])/1e3,np.array(std_domain_lengths[0])/1e3,label=\"Type A\",marker='o')\n",
    "plt.errorbar(kratio_list,np.array(avg_domain_lengths[1])/1e3,np.array(std_domain_lengths[0])/1e3,label=\"Type B\",marker='o')\n",
    "xlim(0.1,2.75)\n",
    "ylabel('domain length ($\\mu$m)')\n",
    "xlabel('[A]/[B]')\n",
    "ylim(0,12)\n",
    "legend(loc=0)\n",
    "\n",
    "competition_prediction_data = np.array( (kratio_list, avg_domain_lengths[0],std_domain_lengths[0],avg_domain_lengths[1], std_domain_lengths[1]) ).T\n",
    "\n",
    "savefig(os.path.join(outdir,'domain_size_mu40_kon0.26_finitelength.pdf'), transparent='true')\n",
    "np.savetxt(os.path.join(outdir,'domain_size_mu40_kon0.26_finitelength.dat.txt'),competition_prediction_data )"
   ]
  },
  {
   "cell_type": "code",
   "execution_count": null,
   "metadata": {
    "collapsed": true
   },
   "outputs": [],
   "source": []
  }
 ],
 "metadata": {
  "anaconda-cloud": {},
  "kernelspec": {
   "display_name": "Python 2",
   "language": "python",
   "name": "python2"
  },
  "language_info": {
   "codemirror_mode": {
    "name": "ipython",
    "version": 2
   },
   "file_extension": ".py",
   "mimetype": "text/x-python",
   "name": "python",
   "nbconvert_exporter": "python",
   "pygments_lexer": "ipython2",
   "version": "2.7.12"
  }
 },
 "nbformat": 4,
 "nbformat_minor": 2
}
